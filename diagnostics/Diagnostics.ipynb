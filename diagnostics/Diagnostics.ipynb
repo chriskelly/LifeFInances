{
 "cells": [
  {
   "attachments": {},
   "cell_type": "markdown",
   "metadata": {},
   "source": [
    "Import Statements"
   ]
  },
  {
   "cell_type": "code",
   "execution_count": null,
   "metadata": {},
   "outputs": [],
   "source": [
    "import pandas as pd\n",
    "import numpy as np\n",
    "import math\n",
    "import matplotlib.pyplot as plt\n",
    "import data.constants as const\n"
   ]
  },
  {
   "cell_type": "code",
   "execution_count": null,
   "metadata": {},
   "outputs": [],
   "source": [
    "FILE_PATH = f'{const.SAVE_DIR}/worst_failure.csv'\n",
    "#FILE_PATH = f'{const.SAVE_DIR}/saveData1.csv'\n",
    "\n",
    "df = pd.read_csv(FILE_PATH)"
   ]
  },
  {
   "cell_type": "code",
   "execution_count": null,
   "metadata": {},
   "outputs": [],
   "source": [
    "# Net Worth & returns\n",
    "plt.figure(figsize=(14,8), dpi=120) \n",
    "\n",
    "roll_df = df[['Stock Returns', 'Bond Returns','RE Returns']].rolling(window=6).mean()\n",
    "\n",
    "ax1 = plt.gca() # get the axis\n",
    "ax2 = ax1.twinx() # create another axis that shares the same x-axis\n",
    "\n",
    "ax1.set_ylim(bottom=-df['Net Worth'].max(), top=df['Net Worth'].max())\n",
    "min_return, max_return = min(roll_df['Stock Returns'].min(),roll_df['RE Returns'].min()), max(roll_df['Stock Returns'].max(),roll_df['RE Returns'].max())\n",
    "ax2.set_ylim(bottom=min_return, top=max_return+(max_return-min_return))\n",
    "\n",
    "ax1.plot(df['Date'],df[\"Net Worth\"], color='skyblue')\n",
    "ax2.plot(df['Date'],roll_df[\"Stock Returns\"], color='darkorange',label='Stock')\n",
    "ax2.axhline(const.EQUITY_MEAN ** (1/4)-1, color='darkorange', lw=1)\n",
    "ax2.plot(df['Date'],roll_df[\"Bond Returns\"], color='forestgreen',label='Bond')\n",
    "ax2.axhline(const.BOND_MEAN ** (1/4)-1, color='forestgreen', lw=1)\n",
    "ax2.plot(df['Date'],roll_df[\"RE Returns\"], color='indianred',label='Real Estate')\n",
    "ax2.axhline(const.RE_MEAN ** (1/4)-1, color='indianred', lw=1)\n",
    "plt.legend() \n",
    "\n",
    "ax1.set_xlabel('Year')\n",
    "ax1.set_ylabel('Net Worth', color='skyblue')\n",
    "ax2.set_ylabel('Returns')"
   ]
  },
  {
   "attachments": {},
   "cell_type": "markdown",
   "metadata": {},
   "source": [
    "Check rates"
   ]
  },
  {
   "cell_type": "code",
   "execution_count": null,
   "metadata": {},
   "outputs": [],
   "source": [
    "# Inflation\n",
    "years = math.trunc(df['Date'].max()-df['Date'].min())\n",
    "product = list(df['Inflation'])[-1]\n",
    "annualized = pow(product, 1 / years)\n",
    "\n",
    "plt.plot(df['Date'],df[\"Inflation\"],label=f'Generated: {annualized:.3f}')\n",
    "\n",
    "def expected_ls(val):\n",
    "    qt_val = val ** (1/4)\n",
    "    ls = [qt_val]\n",
    "    for _ in df[\"Inflation\"]:\n",
    "        ls.append(ls[-1] * qt_val)\n",
    "    ls.pop()\n",
    "    return ls\n",
    "\n",
    "expected_inflation_ls = expected_ls(const.INFLATION_MEAN)\n",
    "low_ls = expected_ls(const.INFLATION_ANNUAL_LOW)\n",
    "high_ls = expected_ls(const.INFLATION_ANNUAL_HIGH)\n",
    "\n",
    "plt.plot(df['Date'],expected_inflation_ls,label=f'Expected: {const.INFLATION_MEAN}',color='darkorange')\n",
    "plt.plot(df['Date'],low_ls,color='bisque',label=f'Bounds: {const.INFLATION_ANNUAL_LOW} to {const.INFLATION_ANNUAL_HIGH}')\n",
    "plt.plot(df['Date'],high_ls,color='bisque')\n",
    "plt.yscale('log')\n",
    "plt.legend() \n"
   ]
  },
  {
   "cell_type": "code",
   "execution_count": null,
   "metadata": {},
   "outputs": [],
   "source": [
    "years = math.trunc(df['Date'].max()-df['Date'].min())\n",
    "yr_sets_of_qt_returns=np.array_split((df['Stock Returns']+1),years)\n",
    "yr_returns = []\n",
    "for set in yr_sets_of_qt_returns:\n",
    "        yr_returns.append(np.product(set))\n",
    "plt.hist(yr_returns,15,label='4 Quart Sets')\n",
    "print(np.mean(yr_returns))\n",
    "plt.legend()\n",
    "\n",
    "data = {'Generated':[np.mean(yr_returns)],\n",
    "        'Expected':[const.EQUITY_MEAN]}\n",
    "\n",
    "pd.DataFrame(data, index=['avg'\n",
    "                               ])"
   ]
  },
  {
   "cell_type": "code",
   "execution_count": null,
   "metadata": {},
   "outputs": [],
   "source": [
    "# Allocations over time\n",
    "\n",
    "ax1 = plt.gca() # get the axis\n",
    "ax2 = ax1.twinx() # create another axis that shares the same x-axis\n",
    "\n",
    "ax1.set_ylim(bottom=-df['Net Worth'].max(), top=df['Net Worth'].max())\n",
    "ax2.set_ylim(bottom=0, top=1.5)\n",
    "\n",
    "ax1.plot(df['Date'],df[\"Net Worth\"])\n",
    "#ax1.axhline(y=param_vals['Equity Target'], color='r', linestyle='-') keeps drawing a line at 0, not sure why\n",
    "ax2.plot(df['Date'],df[\"Stock Alloc\"],label='Stock Alloc')\n",
    "ax2.plot(df['Date'],df[\"Bond Alloc\"],label='Bond Alloc')\n",
    "ax2.plot(df['Date'],df[\"RE Alloc\"],label='RE Alloc')\n",
    "plt.legend()\n"
   ]
  }
 ],
 "metadata": {
  "kernelspec": {
   "display_name": "Python 3.9.7 64-bit",
   "language": "python",
   "name": "python3"
  },
  "language_info": {
   "codemirror_mode": {
    "name": "ipython",
    "version": 3
   },
   "file_extension": ".py",
   "mimetype": "text/x-python",
   "name": "python",
   "nbconvert_exporter": "python",
   "pygments_lexer": "ipython3",
   "version": "3.9.13"
  },
  "orig_nbformat": 4,
  "vscode": {
   "interpreter": {
    "hash": "81794d4967e6c3204c66dcd87b604927b115b27c00565d3d43f05ba2f3a2cb0d"
   }
  }
 },
 "nbformat": 4,
 "nbformat_minor": 2
}
